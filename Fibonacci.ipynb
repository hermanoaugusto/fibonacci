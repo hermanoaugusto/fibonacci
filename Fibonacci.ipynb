{
 "cells": [
  {
   "cell_type": "code",
   "execution_count": 1,
   "id": "9c79fd54-c40d-467d-b113-f80973dddce4",
   "metadata": {},
   "outputs": [
    {
     "name": "stdin",
     "output_type": "stream",
     "text": [
      "Que termo deseja encontrar:  7\n"
     ]
    },
    {
     "name": "stdout",
     "output_type": "stream",
     "text": [
      "13\n"
     ]
    }
   ],
   "source": [
    "n = int(input(\"Termo desejado: \"))\n",
    "ultimo=1\n",
    "penultimo=1\n",
    "\n",
    "\n",
    "if (n==1) or (n==2):\n",
    "    print(\"1\")\n",
    "else:\n",
    "    count=3\n",
    "    while count <= n:\n",
    "        termo = ultimo + penultimo\n",
    "        penultimo = ultimo\n",
    "        ultimo = termo\n",
    "        count += 1\n",
    "    print(termo)"
   ]
  },
  {
   "cell_type": "code",
   "execution_count": null,
   "id": "ff08fb9e-870e-47ff-b5b5-14709d725d63",
   "metadata": {},
   "outputs": [],
   "source": []
  }
 ],
 "metadata": {
  "kernelspec": {
   "display_name": "Python 3 (ipykernel)",
   "language": "python",
   "name": "python3"
  },
  "language_info": {
   "codemirror_mode": {
    "name": "ipython",
    "version": 3
   },
   "file_extension": ".py",
   "mimetype": "text/x-python",
   "name": "python",
   "nbconvert_exporter": "python",
   "pygments_lexer": "ipython3",
   "version": "3.9.7"
  }
 },
 "nbformat": 4,
 "nbformat_minor": 5
}
